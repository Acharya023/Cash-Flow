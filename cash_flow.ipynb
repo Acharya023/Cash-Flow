{
  "nbformat": 4,
  "nbformat_minor": 0,
  "metadata": {
    "colab": {
      "provenance": []
    },
    "kernelspec": {
      "name": "python3",
      "display_name": "Python 3"
    },
    "language_info": {
      "name": "python"
    }
  },
  "cells": [
    {
      "cell_type": "code",
      "execution_count": 14,
      "metadata": {
        "id": "xoN2TouKThGf"
      },
      "outputs": [],
      "source": [
        "import pandas as pd\n",
        "from statsmodels.tsa.api import ExponentialSmoothing"
      ]
    },
    {
      "cell_type": "code",
      "source": [
        "dataset = pd.read_excel('Training_Dataset_Harsh.xlsx', sheet_name = 'Sheet1')\n",
        "dataset['Date'] = pd.to_datetime(dataset['Date'])\n",
        "inflows = dataset[dataset['Type']=='Inflow']\n",
        "monthly = inflows.groupby(inflows['Date'].dt.to_period('M'))['Amount'].sum()\n",
        "monthly.index = monthly.index.to_timestamp()"
      ],
      "metadata": {
        "id": "FPJNMF7MTvq7"
      },
      "execution_count": 15,
      "outputs": []
    },
    {
      "cell_type": "code",
      "source": [
        "model = ExponentialSmoothing(monthly, trend='add').fit()"
      ],
      "metadata": {
        "colab": {
          "base_uri": "https://localhost:8080/"
        },
        "id": "gKuvusvJUcWe",
        "outputId": "13430779-e4b2-46a5-d013-edd3157670ba"
      },
      "execution_count": 16,
      "outputs": [
        {
          "output_type": "stream",
          "name": "stderr",
          "text": [
            "/usr/local/lib/python3.11/dist-packages/statsmodels/tsa/holtwinters/model.py:918: ConvergenceWarning: Optimization failed to converge. Check mle_retvals.\n",
            "  warnings.warn(\n"
          ]
        }
      ]
    },
    {
      "cell_type": "code",
      "source": [
        "forecast = model.forecast(6)"
      ],
      "metadata": {
        "id": "IRjZu4RqVISO"
      },
      "execution_count": 17,
      "outputs": []
    },
    {
      "cell_type": "code",
      "source": [
        "forecast_dates = pd.date_range(start=inflows['Date'].max() + pd.offsets.MonthBegin(1), periods=6, freq='MS')\n",
        "forecast_df = pd.DataFrame({'Date': forecast_dates, 'Forecast': forecast.values})\n",
        "forecast_df.to_excel('forecast.xlsx', index=False)"
      ],
      "metadata": {
        "id": "wQAVTuml_l0Y"
      },
      "execution_count": 18,
      "outputs": []
    },
    {
      "cell_type": "code",
      "source": [
        "#result = pd.DataFrame({'Date': forecast.index, 'Forecast': forecast.values})\n",
        "#result.to_excel('Forecast.xlsx', index=False)"
      ],
      "metadata": {
        "id": "fM5ah7JhVMgI"
      },
      "execution_count": 19,
      "outputs": []
    },
    {
      "cell_type": "code",
      "source": [
        "outflows = dataset[dataset['Type']=='Outflow']\n",
        "opex_categories = ['Salaries', 'Rent', 'Marketing', 'Software']\n",
        "estimated_opex = outflows[outflows['Category'].isin(opex_categories)]\n",
        "monthly_opex = estimated_opex.groupby(estimated_opex['Date'].dt.to_period('M'))['Amount'].sum().mean()\n",
        "annual_opex = monthly_opex * 12\n",
        "annual_capex = 500"
      ],
      "metadata": {
        "id": "Ie0fKdKWVXWE"
      },
      "execution_count": 25,
      "outputs": []
    },
    {
      "cell_type": "code",
      "source": [
        "avg_monthly_forecast = forecast_df['Forecast'].mean()\n",
        "annual_revenue = avg_monthly_forecast * 12\n",
        "fcf_year1 = annual_revenue - annual_opex - annual_capex"
      ],
      "metadata": {
        "id": "AyXndYv5n1qY"
      },
      "execution_count": 26,
      "outputs": []
    },
    {
      "cell_type": "code",
      "source": [
        "growth_rate = 0.08\n",
        "fcfs = [fcf_year1]\n",
        "for i in range(1,5):\n",
        "  fcfs.append(fcfs[-1] * (1+growth_rate))"
      ],
      "metadata": {
        "id": "sTUhtM2hossz"
      },
      "execution_count": 27,
      "outputs": []
    },
    {
      "cell_type": "code",
      "source": [
        "years = pd.date_range(start=forecast_dates[0], periods=5, freq='YS').year\n",
        "fcf_df = pd.DataFrame({'Year': years, 'FCF': fcfs})"
      ],
      "metadata": {
        "id": "yXgzKMsDpH7s"
      },
      "execution_count": 28,
      "outputs": []
    },
    {
      "cell_type": "code",
      "source": [
        "fcf_df.to_excel('fcf_forecast.xlsx',index=False)"
      ],
      "metadata": {
        "id": "Oigi0hVM9908"
      },
      "execution_count": 29,
      "outputs": []
    },
    {
      "cell_type": "code",
      "source": [],
      "metadata": {
        "id": "MsSK8C8P_OzW"
      },
      "execution_count": null,
      "outputs": []
    }
  ]
}